{
 "cells": [
  {
   "cell_type": "markdown",
   "metadata": {},
   "source": [
    "# Webscrape and Data Cleaning/Manipulation of Pikes Peak Marathon Results"
   ]
  },
  {
   "cell_type": "code",
   "execution_count": 3,
   "metadata": {
    "collapsed": true,
    "deletable": true,
    "editable": true
   },
   "outputs": [],
   "source": [
    "from urllib import urlopen\n",
    "from bs4 import BeautifulSoup as bs\n",
    "import pandas as pd\n",
    "import re\n",
    "import numpy as np"
   ]
  },
  {
   "cell_type": "markdown",
   "metadata": {},
   "source": [
    "### Data Scrape and manipulation\n",
    "This code will scrape the Pikes Peak results data and parse it to separate csv files for each year 1976-2016."
   ]
  },
  {
   "cell_type": "code",
   "execution_count": 8,
   "metadata": {
    "collapsed": false,
    "deletable": true,
    "editable": true
   },
   "outputs": [],
   "source": [
    "error_years = []\n",
    "for ii in range(1976,2017):\n",
    "    page_addr = \"http://www.pikespeakmarathon.org/results/\"+str(ii)+\"ppm_m.htm\"\n",
    "    file_path = \"./PP_Data_Dump/\"+str(ii)+\".csv\"\n",
    "    if 1==1:\n",
    "    #try:\n",
    "        bsObj = bs(urlopen(page_addr).read(), \"lxml\")\n",
    "        #the data table is in the \"pre\" field so grab it\n",
    "        stuff = str(bsObj.pre)\n",
    "        #process the file manually to get into appropriate csv format\n",
    "        stuff = re.sub('<.*?>','', stuff)\n",
    "        stuff = \"POS \"+stuff.split('POS ')[1] #Clear the header garbage    \n",
    "        stuff = stuff.split(\"Note\")[0] #Clear the foot garbage\n",
    "        with open(\"./PP_Data_Dump/temp.csv\",\"w\") as f:\n",
    "            f.write(stuff)\n",
    "        #1987 line sample\n",
    "        #  1    1/39  SHELDON A LARSON           27  25-29  BOULDER          CO  2:17:41  1:24:15  3:41:56\n",
    "        #Sampel line\n",
    "        # 16    4/20  VAL MURRAY                 17  COLORADO SPGS    CO  2:42:53  1:59:28  4:42:21\n",
    "     \n",
    "        first_line = True\n",
    "        full_results = \"\"\n",
    "        with open(\"./PP_Data_Dump/temp.csv\", \"r\") as f:\n",
    "            for line in f:\n",
    "    \n",
    "                line = list(line)\n",
    "                if ii == 1987 and len(line) >= 89:\n",
    "                    for jj in [3,12,38,43,50,67,71,80,89]:#,55,82,84,98]:#,104]:\n",
    "                        line[jj] = \",\"\n",
    "           \n",
    "                    if line[0] == \" \":\n",
    "                        line.pop(0)\n",
    "                    if line[0] == \" \":\n",
    "                        line.pop(0)\n",
    "                    line = ''.join(line)\n",
    "                    if first_line == True: #add a year column\n",
    "                        line = \"YEAR,\"+line\n",
    "                        first_line = False\n",
    "                    else:\n",
    "                        line = str(ii) + \",\" + line\n",
    "\n",
    "                    for kk in range(0,25):\n",
    "                        line = re.sub(\", \", \",\", line)\n",
    "                        line = re.sub(\" ,\", \",\", line)\n",
    "                                          \n",
    "                    full_results = full_results + line\n",
    "                elif len(line) >= 82 and ii != 1987:\n",
    "                    for jj in [3,12,38,43,60,64,73,82,91,100,109,118,127,\n",
    "                               136,145,154,163,172,181,190,199,208,217,226]:\n",
    "                        if jj < len(line)-1:\n",
    "                            line[jj]=\",\"\n",
    "                    if line[0] == \" \":\n",
    "                        line.pop(0)\n",
    "                    if line[0] == \" \":\n",
    "                        line.pop(0)\n",
    "                    line = ''.join(line)\n",
    "                    if first_line == True: #add a year column\n",
    "                        line = \"YEAR,\"+line\n",
    "                        first_line = False\n",
    "                    else:\n",
    "                        line = str(ii) + \",\" + line\n",
    "\n",
    "                    for kk in range(0,25):\n",
    "                        line = re.sub(\", \", \",\", line)\n",
    "                        line = re.sub(\" ,\", \",\", line)\n",
    "                                          \n",
    "                    full_results = full_results + line  \n",
    "    \n",
    "        with open(file_path, \"w\") as f:\n",
    "            f.write(full_results)        \n",
    "        \n"
   ]
  },
  {
   "cell_type": "markdown",
   "metadata": {},
   "source": [
    "### To a single file:\n",
    "The code below aggregates the data to a single csv file"
   ]
  },
  {
   "cell_type": "code",
   "execution_count": 379,
   "metadata": {
    "collapsed": false,
    "deletable": true,
    "editable": true
   },
   "outputs": [],
   "source": [
    "all_years_df = pd.DataFrame(columns = ['YEAR', 'NAME','AGE','ASCENT','TOTAL'])\n",
    "for year in range(1976, 2017):\n",
    "    temp_df = pd.read_csv(\"./PP_Data_Dump/\"+str(year)+\".csv\")\n",
    "    temp_df = temp_df[['YEAR', 'NAME','AGE','ASCENT','TOTAL']]\n",
    "    all_years_df = all_years_df.append(temp_df, ignore_index = True)\n",
    "all_years_df.to_csv(\"./PP_Data_Dump/all_years.csv\", index = False)    "
   ]
  },
  {
   "cell_type": "code",
   "execution_count": 3,
   "metadata": {
    "collapsed": false,
    "deletable": true,
    "editable": true
   },
   "outputs": [
    {
     "data": {
      "text/html": [
       "<div>\n",
       "<table border=\"1\" class=\"dataframe\">\n",
       "  <thead>\n",
       "    <tr style=\"text-align: right;\">\n",
       "      <th></th>\n",
       "      <th>YEAR</th>\n",
       "      <th>NAME</th>\n",
       "      <th>AGE</th>\n",
       "      <th>ASCENT</th>\n",
       "      <th>TOTAL</th>\n",
       "    </tr>\n",
       "  </thead>\n",
       "  <tbody>\n",
       "    <tr>\n",
       "      <th>0</th>\n",
       "      <td>1976</td>\n",
       "      <td>RICK TRUJILLO</td>\n",
       "      <td>28.0</td>\n",
       "      <td>2.165</td>\n",
       "      <td>3.571</td>\n",
       "    </tr>\n",
       "    <tr>\n",
       "      <th>1</th>\n",
       "      <td>1976</td>\n",
       "      <td>TED CASTANEDA</td>\n",
       "      <td>24.0</td>\n",
       "      <td>2.351</td>\n",
       "      <td>3.893</td>\n",
       "    </tr>\n",
       "    <tr>\n",
       "      <th>2</th>\n",
       "      <td>1976</td>\n",
       "      <td>ROBERT BUNNELL</td>\n",
       "      <td>25.0</td>\n",
       "      <td>2.438</td>\n",
       "      <td>3.917</td>\n",
       "    </tr>\n",
       "    <tr>\n",
       "      <th>3</th>\n",
       "      <td>1976</td>\n",
       "      <td>MACLEAN WILSON</td>\n",
       "      <td>18.0</td>\n",
       "      <td>2.388</td>\n",
       "      <td>3.968</td>\n",
       "    </tr>\n",
       "    <tr>\n",
       "      <th>4</th>\n",
       "      <td>1976</td>\n",
       "      <td>MIKE HARRIE</td>\n",
       "      <td>21.0</td>\n",
       "      <td>2.382</td>\n",
       "      <td>3.993</td>\n",
       "    </tr>\n",
       "  </tbody>\n",
       "</table>\n",
       "</div>"
      ],
      "text/plain": [
       "   YEAR            NAME   AGE  ASCENT  TOTAL\n",
       "0  1976   RICK TRUJILLO  28.0   2.165  3.571\n",
       "1  1976   TED CASTANEDA  24.0   2.351  3.893\n",
       "2  1976  ROBERT BUNNELL  25.0   2.438  3.917\n",
       "3  1976  MACLEAN WILSON  18.0   2.388  3.968\n",
       "4  1976     MIKE HARRIE  21.0   2.382  3.993"
      ]
     },
     "execution_count": 3,
     "metadata": {},
     "output_type": "execute_result"
    }
   ],
   "source": [
    "all_years_df = pd.read_csv(\"./PP_Data_Dump/all_years.csv\")\n",
    "all_years_df.head()"
   ]
  },
  {
   "cell_type": "markdown",
   "metadata": {},
   "source": [
    "### Conversion of text string in Ascent and Total columns to decimal hours."
   ]
  },
  {
   "cell_type": "code",
   "execution_count": 1,
   "metadata": {
    "collapsed": false,
    "deletable": true,
    "editable": true
   },
   "outputs": [],
   "source": [
    "def convert_string_to_hours(text):\n",
    "    if type(text) != str:\n",
    "        return text\n",
    "    else:\n",
    "        if ';' in text:\n",
    "            if len(re.split(';', text)) == 3:\n",
    "                h = re.split(';', text)[0]\n",
    "                m = re.split(';', text)[1]\n",
    "                s = re.split(';', text)[2]\n",
    "            else:\n",
    "                a = re.split(';', text)[0]\n",
    "                b = re.split(';', text)[1]\n",
    "\n",
    "                if ':' in a:\n",
    "                    h = re.split(':', a)[0]\n",
    "                    m = re.split(':', a)[1]\n",
    "                    s = b\n",
    "                if ':' in b:\n",
    "                    h = a\n",
    "                    m = re.split(':', b)[0]\n",
    "                    s = re.split(':', b)[1]\n",
    "            return round((int(h) + int(m) / 60. + int(s) / 3600.), 3)\n",
    "        else: \n",
    "            hms = text.split(\":\")\n",
    "            if len(hms) != 3:\n",
    "                #print(\"Error with {}\".format(text))\n",
    "                return float('nan')\n",
    "            else:\n",
    "                hours = int(hms[0]) + int(hms[1]) / 60. + int(hms[2]) / 3600.\n",
    "                return round(hours, 3)\n",
    "\n"
   ]
  },
  {
   "cell_type": "markdown",
   "metadata": {},
   "source": [
    "### Conversion of string to numeric data"
   ]
  },
  {
   "cell_type": "code",
   "execution_count": 382,
   "metadata": {
    "collapsed": false,
    "deletable": true,
    "editable": true
   },
   "outputs": [
    {
     "data": {
      "text/plain": [
       "[29, 29, 2989, nan]"
      ]
     },
     "execution_count": 382,
     "metadata": {},
     "output_type": "execute_result"
    }
   ],
   "source": [
    "def string_to_int(text):\n",
    "    try:\n",
    "        conv = int(text)\n",
    "        return conv\n",
    "    except:\n",
    "        try:\n",
    "            conv = int(float(text))\n",
    "            return conv\n",
    "        except:\n",
    "            return float('nan')\n",
    "\n",
    "    \n",
    "#TESTING\n",
    "A = [29.89, '29.89', 2989, 'po2989']\n",
    "map(string_to_int, A)"
   ]
  },
  {
   "cell_type": "code",
   "execution_count": 383,
   "metadata": {
    "collapsed": false,
    "deletable": true,
    "editable": true
   },
   "outputs": [
    {
     "name": "stdout",
     "output_type": "stream",
     "text": [
      "     YEAR            NAME   AGE  ASCENT  TOTAL\n",
      "0  1976.0   RICK TRUJILLO  28.0   2.165  3.571\n",
      "1  1976.0   TED CASTANEDA  24.0   2.351  3.893\n",
      "2  1976.0  ROBERT BUNNELL  25.0   2.438  3.917\n",
      "3  1976.0  MACLEAN WILSON  18.0   2.388  3.968\n",
      "4  1976.0     MIKE HARRIE  21.0   2.382  3.993\n"
     ]
    }
   ],
   "source": [
    "all_years_df['ASCENT'] = map(convert_string_to_hours, all_years_df['ASCENT'])\n",
    "all_years_df['TOTAL'] = map(convert_string_to_hours, all_years_df['TOTAL'])\n",
    "print(all_years_df.head())"
   ]
  },
  {
   "cell_type": "code",
   "execution_count": 384,
   "metadata": {
    "collapsed": false,
    "deletable": true,
    "editable": true
   },
   "outputs": [
    {
     "data": {
      "text/html": [
       "<div>\n",
       "<table border=\"1\" class=\"dataframe\">\n",
       "  <thead>\n",
       "    <tr style=\"text-align: right;\">\n",
       "      <th></th>\n",
       "      <th>YEAR</th>\n",
       "      <th>NAME</th>\n",
       "      <th>AGE</th>\n",
       "      <th>ASCENT</th>\n",
       "      <th>TOTAL</th>\n",
       "    </tr>\n",
       "  </thead>\n",
       "  <tbody>\n",
       "    <tr>\n",
       "      <th>0</th>\n",
       "      <td>1976</td>\n",
       "      <td>RICK TRUJILLO</td>\n",
       "      <td>28.0</td>\n",
       "      <td>2.165</td>\n",
       "      <td>3.571</td>\n",
       "    </tr>\n",
       "    <tr>\n",
       "      <th>1</th>\n",
       "      <td>1976</td>\n",
       "      <td>TED CASTANEDA</td>\n",
       "      <td>24.0</td>\n",
       "      <td>2.351</td>\n",
       "      <td>3.893</td>\n",
       "    </tr>\n",
       "    <tr>\n",
       "      <th>2</th>\n",
       "      <td>1976</td>\n",
       "      <td>ROBERT BUNNELL</td>\n",
       "      <td>25.0</td>\n",
       "      <td>2.438</td>\n",
       "      <td>3.917</td>\n",
       "    </tr>\n",
       "    <tr>\n",
       "      <th>3</th>\n",
       "      <td>1976</td>\n",
       "      <td>MACLEAN WILSON</td>\n",
       "      <td>18.0</td>\n",
       "      <td>2.388</td>\n",
       "      <td>3.968</td>\n",
       "    </tr>\n",
       "    <tr>\n",
       "      <th>4</th>\n",
       "      <td>1976</td>\n",
       "      <td>MIKE HARRIE</td>\n",
       "      <td>21.0</td>\n",
       "      <td>2.382</td>\n",
       "      <td>3.993</td>\n",
       "    </tr>\n",
       "  </tbody>\n",
       "</table>\n",
       "</div>"
      ],
      "text/plain": [
       "   YEAR            NAME   AGE  ASCENT  TOTAL\n",
       "0  1976   RICK TRUJILLO  28.0   2.165  3.571\n",
       "1  1976   TED CASTANEDA  24.0   2.351  3.893\n",
       "2  1976  ROBERT BUNNELL  25.0   2.438  3.917\n",
       "3  1976  MACLEAN WILSON  18.0   2.388  3.968\n",
       "4  1976     MIKE HARRIE  21.0   2.382  3.993"
      ]
     },
     "execution_count": 384,
     "metadata": {},
     "output_type": "execute_result"
    }
   ],
   "source": [
    "all_years_df['AGE'] = map(string_to_int, all_years_df['AGE'])\n",
    "all_years_df['YEAR'] = map(string_to_int, all_years_df['YEAR'])\n",
    "all_years_df.head()"
   ]
  },
  {
   "cell_type": "code",
   "execution_count": 385,
   "metadata": {
    "collapsed": false,
    "deletable": true,
    "editable": true
   },
   "outputs": [],
   "source": [
    "all_years_df.head()\n",
    "all_years_df['AGE'] = map(string_to_int, all_years_df['AGE'])"
   ]
  },
  {
   "cell_type": "code",
   "execution_count": 386,
   "metadata": {
    "collapsed": false,
    "deletable": true,
    "editable": true
   },
   "outputs": [],
   "source": [
    "all_years_df.to_csv(\"./PP_Data_Dump/all_years.csv\", index = False)"
   ]
  },
  {
   "cell_type": "code",
   "execution_count": null,
   "metadata": {
    "collapsed": true,
    "deletable": true,
    "editable": true
   },
   "outputs": [],
   "source": []
  },
  {
   "cell_type": "markdown",
   "metadata": {
    "deletable": true,
    "editable": true
   },
   "source": [
    "# All data cleaning / wrangling done, now to have a quick look inside :-)"
   ]
  },
  {
   "cell_type": "code",
   "execution_count": 4,
   "metadata": {
    "collapsed": false,
    "deletable": true,
    "editable": true
   },
   "outputs": [],
   "source": [
    "all_years_df = pd.read_csv(\"./PP_Data_Dump/all_years.csv\")"
   ]
  },
  {
   "cell_type": "code",
   "execution_count": 5,
   "metadata": {
    "collapsed": false,
    "deletable": true,
    "editable": true
   },
   "outputs": [
    {
     "data": {
      "text/plain": [
       "YEAR      19159\n",
       "NAME      19159\n",
       "AGE       19095\n",
       "ASCENT    18831\n",
       "TOTAL     19158\n",
       "dtype: int64"
      ]
     },
     "execution_count": 5,
     "metadata": {},
     "output_type": "execute_result"
    }
   ],
   "source": [
    "all_years_df.count()"
   ]
  },
  {
   "cell_type": "code",
   "execution_count": 6,
   "metadata": {
    "collapsed": true,
    "deletable": true,
    "editable": true
   },
   "outputs": [],
   "source": [
    "import matplotlib.pyplot as plt"
   ]
  },
  {
   "cell_type": "code",
   "execution_count": 7,
   "metadata": {
    "collapsed": false,
    "deletable": true,
    "editable": true
   },
   "outputs": [
    {
     "data": {
      "image/png": "[encoded data removed]",
      "text/plain": [
       "<matplotlib.figure.Figure at 0x10ea37d10>"
      ]
     },
     "metadata": {},
     "output_type": "display_data"
    }
   ],
   "source": [
    "plt.scatter(all_years_df['AGE'], all_years_df['TOTAL'])\n",
    "plt.show()"
   ]
  },
  {
   "cell_type": "code",
   "execution_count": 9,
   "metadata": {
    "collapsed": true,
    "deletable": true,
    "editable": true
   },
   "outputs": [],
   "source": [
    "gb = all_years_df.groupby(by = ['AGE'])\n"
   ]
  },
  {
   "cell_type": "code",
   "execution_count": 10,
   "metadata": {
    "collapsed": false,
    "deletable": true,
    "editable": true
   },
   "outputs": [
    {
     "data": {
      "image/png": "[encoded data removed]",
      "text/plain": [
       "<matplotlib.figure.Figure at 0x10ea37a90>"
      ]
     },
     "metadata": {},
     "output_type": "display_data"
    }
   ],
   "source": [
    "plt.plot(range(13,82), gb.mean()['TOTAL'])\n",
    "plt.show()"
   ]
  },
  {
   "cell_type": "code",
   "execution_count": 15,
   "metadata": {
    "collapsed": false,
    "deletable": true,
    "editable": true
   },
   "outputs": [],
   "source": [
    "gb2 = all_years_df.groupby(['YEAR','AGE']).aggregate(np.mean)"
   ]
  },
  {
   "cell_type": "code",
   "execution_count": 16,
   "metadata": {
    "collapsed": false,
    "deletable": true,
    "editable": true,
    "scrolled": true
   },
   "outputs": [
    {
     "name": "stdout",
     "output_type": "stream",
     "text": [
      "             ASCENT     TOTAL\n",
      "YEAR AGE                     \n",
      "1976 15.0  3.363000  6.018000\n",
      "     16.0  3.264750  5.154250\n",
      "     17.0  3.102333  5.227333\n",
      "     18.0  3.538000  5.854800\n",
      "     19.0  3.437200  5.753200\n",
      "     20.0  3.180333  5.722333\n",
      "     21.0  3.278333  5.554167\n",
      "     22.0  3.478333  5.398333\n",
      "     23.0  3.412000  5.483750\n",
      "     24.0  3.127250  5.204125\n",
      "     25.0  2.924400  4.777400\n",
      "     26.0  3.488400  5.788000\n",
      "     27.0  3.538000  5.530125\n",
      "     28.0  3.155857  5.162143\n",
      "     29.0  3.676800  5.983700\n",
      "     30.0  3.215833  5.215333\n",
      "     31.0  3.245500  5.388500\n",
      "     32.0  3.436571  5.515857\n",
      "     33.0  3.548500  6.212000\n",
      "     34.0  3.973400  6.662200\n",
      "     35.0  3.933333  6.348000\n",
      "     36.0  3.564750  5.670875\n",
      "     37.0  3.874667  6.396667\n",
      "     38.0  3.156000  4.768000\n",
      "     39.0  3.580000  6.041800\n",
      "     40.0  3.467400  5.801000\n",
      "     41.0  3.328000  5.121000\n",
      "     42.0  3.076000  5.184000\n",
      "     43.0  3.210000  5.281000\n",
      "     44.0  3.056000  4.784000\n",
      "...             ...       ...\n",
      "2016 43.0  4.516130  7.317739\n",
      "     44.0  4.201200  6.868700\n",
      "     45.0  4.197933  6.826933\n",
      "     46.0  4.530400  7.324800\n",
      "     47.0  4.315958  7.124625\n",
      "     48.0  4.533429  7.421786\n",
      "     49.0  4.827750  7.962375\n",
      "     50.0  4.474929  7.339571\n",
      "     51.0  4.763000  7.804714\n",
      "     52.0  4.639875  7.765250\n",
      "     53.0  4.967615  8.355923\n",
      "     54.0  4.557167  7.468083\n",
      "     55.0  4.509111  7.425333\n",
      "     56.0  4.607300  7.599800\n",
      "     57.0  4.945267  8.147467\n",
      "     58.0  4.777714  7.946143\n",
      "     59.0  4.929222  8.149333\n",
      "     60.0  4.688000  7.909500\n",
      "     61.0  4.857833  7.952500\n",
      "     62.0  5.404500  8.221500\n",
      "     63.0  4.583250  7.664000\n",
      "     64.0  5.065000  8.286800\n",
      "     65.0  5.308667  8.404333\n",
      "     66.0  4.707333  8.245333\n",
      "     67.0  5.302000  9.146000\n",
      "     68.0  5.126500  8.618500\n",
      "     69.0  4.653500  7.843000\n",
      "     70.0  4.920000  7.982500\n",
      "     71.0  5.799000  9.374000\n",
      "     73.0  5.595000  9.257000\n",
      "\n",
      "[2078 rows x 2 columns]\n"
     ]
    }
   ],
   "source": [
    "print(gb2)"
   ]
  },
  {
   "cell_type": "code",
   "execution_count": null,
   "metadata": {
    "collapsed": true,
    "deletable": true,
    "editable": true
   },
   "outputs": [],
   "source": []
  }
 ],
 "metadata": {
  "kernelspec": {
   "display_name": "Python 2",
   "language": "python",
   "name": "python2"
  },
  "language_info": {
   "codemirror_mode": {
    "name": "ipython",
    "version": 2
   },
   "file_extension": ".py",
   "mimetype": "text/x-python",
   "name": "python",
   "nbconvert_exporter": "python",
   "pygments_lexer": "ipython2",
   "version": "2.7.13"
  }
 },
 "nbformat": 4,
 "nbformat_minor": 2
}
